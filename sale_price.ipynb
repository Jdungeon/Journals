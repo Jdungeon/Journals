{
  "nbformat": 4,
  "nbformat_minor": 0,
  "metadata": {
    "colab": {
      "name": "sale_price.ipynb",
      "provenance": [],
      "include_colab_link": true
    },
    "kernelspec": {
      "name": "python3",
      "display_name": "Python 3"
    },
    "language_info": {
      "name": "python"
    }
  },
  "cells": [
    {
      "cell_type": "markdown",
      "metadata": {
        "id": "view-in-github",
        "colab_type": "text"
      },
      "source": [
        "<a href=\"https://colab.research.google.com/github/Jdungeon/Journals/blob/main/sale_price.ipynb\" target=\"_parent\"><img src=\"https://colab.research.google.com/assets/colab-badge.svg\" alt=\"Open In Colab\"/></a>"
      ]
    },
    {
      "cell_type": "markdown",
      "metadata": {
        "id": "cgTeiXOtSPjH"
      },
      "source": [
        "# Sales Price\n",
        "\n",
        "A local department store needs to develop a program that will computer the total price (including goods and services tax) of the item on sale when given an item's original price and discount percentage.\n",
        "\n",
        "## Tasks\n",
        "* Save to Github\n",
        "* Design Algorithm\n",
        "* Write and test the program in Python"
      ]
    },
    {
      "cell_type": "code",
      "metadata": {
        "id": "pPIN2ZcrSqdw",
        "outputId": "5a9d92de-35a5-4d22-e4a7-36ce5bdc78ce",
        "colab": {
          "base_uri": "https://localhost:8080/"
        }
      },
      "source": [
        "def calculate_totalprice(original, discount, tax):\n",
        "  newprice = original - (original * discount)\n",
        "  taxamount = tax * newprice\n",
        "  totalprice = newprice + taxamount\n",
        "  print(original)\n",
        "  print(discount)\n",
        "  print(tax)\n",
        "  print(totalprice)\n",
        "\n",
        "calculate_totalprice(40, 0.3, 0.07)\n",
        "\n"
      ],
      "execution_count": 1,
      "outputs": [
        {
          "output_type": "stream",
          "name": "stdout",
          "text": [
            "40\n",
            "0.3\n",
            "0.07\n",
            "29.96\n"
          ]
        }
      ]
    },
    {
      "cell_type": "code",
      "source": [
        "def information():\n",
        "  original = int(input(\"Input your Price: \\n\"))\n",
        "  discount = (float(input(\"Input your discount: \\n\"))/100)\n",
        "  tax = (float(input(\"Input your tax: \\n\"))/100)\n",
        "  \n",
        "  return original, discount, tax;\n",
        "\n",
        "def calculate_totalprice(original, discount, tax):\n",
        "  newprice = original - (original * discount)\n",
        "  taxamount = tax * newprice\n",
        "  totalprice = newprice + taxamount\n",
        "  \n",
        "  return totalprice\n",
        "\n",
        "\n",
        "x = information()\n",
        "y = float(calculate_totalprice(x))3\n",
        "print(\"Amount due:$\", y)\n",
        "\n",
        "\n"
      ],
      "metadata": {
        "id": "ZjMAA9zzOLz1",
        "outputId": "8270f1f0-e3b4-4d8e-e3d1-c1fa85a4436e",
        "colab": {
          "base_uri": "https://localhost:8080/",
          "height": 380
        }
      },
      "execution_count": 16,
      "outputs": [
        {
          "name": "stdout",
          "output_type": "stream",
          "text": [
            "Input your Price: \n",
            "40\n",
            "Input your discount: \n",
            "30\n",
            "Input your tax: \n",
            "7\n"
          ]
        },
        {
          "output_type": "error",
          "ename": "TypeError",
          "evalue": "ignored",
          "traceback": [
            "\u001b[0;31m---------------------------------------------------------------------------\u001b[0m",
            "\u001b[0;31mTypeError\u001b[0m                                 Traceback (most recent call last)",
            "\u001b[0;32m<ipython-input-16-032cfc09bf50>\u001b[0m in \u001b[0;36m<module>\u001b[0;34m()\u001b[0m\n\u001b[1;32m     15\u001b[0m \u001b[0;34m\u001b[0m\u001b[0m\n\u001b[1;32m     16\u001b[0m \u001b[0mx\u001b[0m \u001b[0;34m=\u001b[0m \u001b[0minformation\u001b[0m\u001b[0;34m(\u001b[0m\u001b[0;34m)\u001b[0m\u001b[0;34m\u001b[0m\u001b[0;34m\u001b[0m\u001b[0m\n\u001b[0;32m---> 17\u001b[0;31m \u001b[0my\u001b[0m \u001b[0;34m=\u001b[0m \u001b[0mfloat\u001b[0m\u001b[0;34m(\u001b[0m\u001b[0mcalculate_totalprice\u001b[0m\u001b[0;34m(\u001b[0m\u001b[0mx\u001b[0m\u001b[0;34m)\u001b[0m\u001b[0;34m)\u001b[0m\u001b[0;34m\u001b[0m\u001b[0;34m\u001b[0m\u001b[0m\n\u001b[0m\u001b[1;32m     18\u001b[0m \u001b[0mprint\u001b[0m\u001b[0;34m(\u001b[0m\u001b[0;34m\"Amount due:$\"\u001b[0m\u001b[0;34m,\u001b[0m \u001b[0my\u001b[0m\u001b[0;34m)\u001b[0m\u001b[0;34m\u001b[0m\u001b[0;34m\u001b[0m\u001b[0m\n\u001b[1;32m     19\u001b[0m \u001b[0;34m\u001b[0m\u001b[0m\n",
            "\u001b[0;31mTypeError\u001b[0m: calculate_totalprice() missing 2 required positional arguments: 'discount' and 'tax'"
          ]
        }
      ]
    }
  ]
}