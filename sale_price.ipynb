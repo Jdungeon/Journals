{
  "nbformat": 4,
  "nbformat_minor": 0,
  "metadata": {
    "colab": {
      "name": "sale_price.ipynb",
      "provenance": [],
      "include_colab_link": true
    },
    "kernelspec": {
      "name": "python3",
      "display_name": "Python 3"
    },
    "language_info": {
      "name": "python"
    }
  },
  "cells": [
    {
      "cell_type": "markdown",
      "metadata": {
        "id": "view-in-github",
        "colab_type": "text"
      },
      "source": [
        "<a href=\"https://colab.research.google.com/github/Jdungeon/Journals/blob/main/sale_price.ipynb\" target=\"_parent\"><img src=\"https://colab.research.google.com/assets/colab-badge.svg\" alt=\"Open In Colab\"/></a>"
      ]
    },
    {
      "cell_type": "markdown",
      "metadata": {
        "id": "cgTeiXOtSPjH"
      },
      "source": [
        "# Sales Price\n",
        "\n",
        "A local department store needs to develop a program that will computer the total price (including goods and services tax) of the item on sale when given an item's original price and discount percentage.\n",
        "\n",
        "## Tasks\n",
        "* Save to Github\n",
        "* Design Algorithm\n",
        "* Write and test the program in Python"
      ]
    },
    {
      "cell_type": "code",
      "metadata": {
        "id": "pPIN2ZcrSqdw",
        "outputId": "e8142683-51dd-4cf7-d074-e3e9885ddca1",
        "colab": {
          "base_uri": "https://localhost:8080/"
        }
      },
      "source": [
        "def calculate_totalprice(original, discount, tax):\n",
        "  newprice = original - (original * discount)\n",
        "  taxamount = tax * newprice\n",
        "  totalprice = newprice + taxamount\n",
        "  print('Your Price is', original)\n",
        "  print('Your Discount is', discount)\n",
        "  print('Your Tax is', tax)\n",
        "  print('Your total', totalprice)\n",
        "\n",
        "calculate_totalprice(40, 0.3, 0.07)\n",
        "\n"
      ],
      "execution_count": 39,
      "outputs": [
        {
          "output_type": "stream",
          "name": "stdout",
          "text": [
            "Your Price is 40\n",
            "Your Discount is 0.3\n",
            "Your Tax is 0.07\n",
            "Your total 29.96\n"
          ]
        }
      ]
    },
    {
      "cell_type": "code",
      "source": [
        "def information():\n",
        "  \n",
        "  original = int(input(\"Input your Price: \\n\"))\n",
        "  \n",
        "  discount = int(input(\"Input your discount: \\n\"))\n",
        "\n",
        "  tax = int(input(\"Input your tax: \\n\"))\n",
        "  \n",
        "  newprice = original - (original * float(discount / 100))\n",
        "  \n",
        "  taxamount = float(tax / 100) * newprice\n",
        "  \n",
        "  totalprice = newprice + float(taxamount)\n",
        "\n",
        "  print(\"The original price is: $\", original)\n",
        "  print(\"Your discount is:\", discount, \"%\")\n",
        "  print(\"Your tax is:\", tax, \"%\")\n",
        "  print(\"The total price due: $\", totalprice)\n",
        "\n",
        "information()\n",
        "  \n"
      ],
      "metadata": {
        "id": "ZjMAA9zzOLz1",
        "outputId": "bc31b788-de4d-475b-aa08-d0eff0934453",
        "colab": {
          "base_uri": "https://localhost:8080/"
        }
      },
      "execution_count": 44,
      "outputs": [
        {
          "output_type": "stream",
          "name": "stdout",
          "text": [
            "Input your Price: \n",
            "40\n",
            "Input your discount: \n",
            "0\n",
            "Input your tax: \n",
            "7\n",
            "The original price is: $ 40\n",
            "Your discount is: 0 %\n",
            "Your tax is: 7 %\n",
            "The total price due: $ 42.8\n"
          ]
        }
      ]
    }
  ]
}