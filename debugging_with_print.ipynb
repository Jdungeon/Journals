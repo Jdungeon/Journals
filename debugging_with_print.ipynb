{
  "nbformat": 4,
  "nbformat_minor": 0,
  "metadata": {
    "colab": {
      "name": "debugging_with_print.ipynb",
      "provenance": [],
      "include_colab_link": true
    },
    "kernelspec": {
      "name": "python3",
      "display_name": "Python 3"
    },
    "language_info": {
      "name": "python"
    }
  },
  "cells": [
    {
      "cell_type": "markdown",
      "metadata": {
        "id": "view-in-github",
        "colab_type": "text"
      },
      "source": [
        "<a href=\"https://colab.research.google.com/github/Jdungeon/Journals/blob/main/debugging_with_print.ipynb\" target=\"_parent\"><img src=\"https://colab.research.google.com/assets/colab-badge.svg\" alt=\"Open In Colab\"/></a>"
      ]
    },
    {
      "cell_type": "markdown",
      "source": [
        "# Debugging\n",
        "\n",
        "When you first begin to program, you make a lot of mistakes, and your code doesn’t always work!\n",
        "\n",
        "When you're a skilled programmer, you make mistakes and your code doesn’t always work.\n",
        "\n",
        "**Everyone needs debugging skills.**\n",
        "\n",
        "Debugging is the process of figuring out what is going wrong with your code.There are many ways to debug. This notebook will talk about one specific way: print statement debugging. Print statement debugging is great for beginners because it doesn't require special tools. It's a great way to develop a sense of how to debug effectively.\n",
        "\n",
        "# How to Debug With Print Statements\n",
        "\n",
        "Debugging is not just running your code. It also requires reading your code.\n",
        "\n",
        "* Read your code, and\n",
        "* Read your error messages\n",
        "\n",
        "You should have a little bit of an idea of the general area of code where your bug is occurring.  This is often acheived by matching up the output with the code associated with it.\n",
        "\n",
        "You can narrow your search from there: Place print statements so you know \"where\" you are in the code or print the valuse of variables.\n",
        "\n",
        "#### Which Variables Should You Look at?\n",
        "\n",
        "Look at the ones that seem to be misbehaving.  Put a print statement before and after an update, if the value changing as expected?\n",
        "\n",
        "You can put  a print statement inside of a for Loop so that it prints out the value every time the loop goes through.  This can show you what the value is are and how they are changing.  \n",
        "\n",
        "#### Code Excuting as expected\n",
        "\n",
        "You can put a series of numbers throughout the code. Say print one at the beginning.  Then add print statement in various palces incrementing the number.  Then run the program and look at the output.  If you see the numbers “1” “2” “3” “4” and so on then the program is execusitng as expeted. If a number is missing then you can investigate further to see whay.\n",
        "\n",
        "#### Use Sparingly\n",
        "\n",
        "Too many print statements can very quickly lead to more confusion, especially within loops.So use your print statements sparingly!\n",
        "\n",
        "\n",
        "\n",
        "# Bubble Sort\n",
        "\n",
        "Below is an implementation of the bubble sort algorithm. It iterates or loops several times over the list, and on each iteration, two adjacent values are checked and interchanged, so the bigger one is after the smaller. This makes the bigger values ascend like bubbles in the list."
      ],
      "metadata": {
        "id": "I_Mvaae0FEHh"
      }
    },
    {
      "cell_type": "code",
      "execution_count": 9,
      "metadata": {
        "id": "h8XHUWYkB-nh"
      },
      "outputs": [],
      "source": [
        "def bubble_sort(alist):\n",
        "  '''Sorts a given list in ascending order\n",
        "  >>> bubble_sort([3,4,2,1])\n",
        "  [1,2,3,4]\n",
        "  '''\n",
        "  for passnum in reversed(range(len(alist) - 1)):\n",
        "      for i in range(passnum):\n",
        "          if alist[i] > alist[i + 1]:\n",
        "              alist[i], alist[i + 1] = alist[i + 1], alist[i]\n",
        "  return alist"
      ]
    },
    {
      "cell_type": "markdown",
      "source": [
        "Let us try a few examples"
      ],
      "metadata": {
        "id": "GIaqVlKlIYo2"
      }
    },
    {
      "cell_type": "code",
      "source": [
        "bubble_sort([3,4,2,1])"
      ],
      "metadata": {
        "id": "YJ0VemjrCPv6",
        "outputId": "ea8c042e-32bf-4a6e-a898-a7bb7226852e",
        "colab": {
          "base_uri": "https://localhost:8080/"
        }
      },
      "execution_count": 10,
      "outputs": [
        {
          "output_type": "execute_result",
          "data": {
            "text/plain": [
              "[1, 2, 3, 4]"
            ]
          },
          "metadata": {},
          "execution_count": 10
        }
      ]
    },
    {
      "cell_type": "code",
      "source": [
        "bubble_sort([7,1,3,4,2,6,5])"
      ],
      "metadata": {
        "id": "JgyQfUTPHefn",
        "outputId": "ee3983c8-871d-47dc-fa18-8f525011b8d8",
        "colab": {
          "base_uri": "https://localhost:8080/"
        }
      },
      "execution_count": 6,
      "outputs": [
        {
          "output_type": "execute_result",
          "data": {
            "text/plain": [
              "[1, 2, 3, 4, 6, 7, 5]"
            ]
          },
          "metadata": {},
          "execution_count": 6
        }
      ]
    },
    {
      "cell_type": "markdown",
      "source": [
        "This is an example of a runtime error.  The code is syntatically correct and runs, just the expected output is incorrect.\n",
        "\n",
        "It almost works, you may notice a pattern but let us use a print statement to try and trace the executation of the program.  \n",
        "\n",
        "There are lots of places you could put a print statement but in this example we will check after the list is updated."
      ],
      "metadata": {
        "id": "vc7m2XskIs4y"
      }
    },
    {
      "cell_type": "code",
      "source": [
        "def bubble_sort(alist):\n",
        "  '''Sorts a given list in ascending order\n",
        "  >>> bubble_sort([3,4,2,1])\n",
        "  [1,2,3,4]\n",
        "  '''\n",
        "  for passnum in reversed(range(len(alist) - 1)):\n",
        "    print (\"sorting in progress:\", alist )\n",
        "    for i in range(passnum):\n",
        "        if alist[i] > alist[i + 1]:\n",
        "            alist[i], alist[i + 1] = alist[i + 1], alist[i]\n",
        "  return alist"
      ],
      "metadata": {
        "id": "umaiIrX1Iq3x"
      },
      "execution_count": 12,
      "outputs": []
    },
    {
      "cell_type": "code",
      "source": [
        "bubble_sort([3,4,2,1])"
      ],
      "metadata": {
        "id": "Tg1HDnlDKCFd",
        "outputId": "02279551-907a-4640-a300-e5139d7329eb",
        "colab": {
          "base_uri": "https://localhost:8080/"
        }
      },
      "execution_count": 13,
      "outputs": [
        {
          "output_type": "stream",
          "name": "stdout",
          "text": [
            "sorting in progress: [3, 4, 2, 1]\n",
            "sorting in progress: [3, 2, 4, 1]\n",
            "sorting in progress: [2, 3, 4, 1]\n"
          ]
        },
        {
          "output_type": "execute_result",
          "data": {
            "text/plain": [
              "[2, 3, 4, 1]"
            ]
          },
          "metadata": {},
          "execution_count": 13
        }
      ]
    },
    {
      "cell_type": "code",
      "source": [
        "bubble_sort([7,1,3,4,2,6,5])"
      ],
      "metadata": {
        "id": "GPwW960iKHJh",
        "outputId": "268d9b9a-a612-41fc-e321-52399e15bcd8",
        "colab": {
          "base_uri": "https://localhost:8080/"
        }
      },
      "execution_count": 14,
      "outputs": [
        {
          "output_type": "stream",
          "name": "stdout",
          "text": [
            "sorting in progress: [7, 1, 3, 4, 2, 6, 5]\n",
            "sorting in progress: [1, 3, 4, 2, 6, 7, 5]\n",
            "sorting in progress: [1, 3, 2, 4, 6, 7, 5]\n",
            "sorting in progress: [1, 2, 3, 4, 6, 7, 5]\n",
            "sorting in progress: [1, 2, 3, 4, 6, 7, 5]\n",
            "sorting in progress: [1, 2, 3, 4, 6, 7, 5]\n"
          ]
        },
        {
          "output_type": "execute_result",
          "data": {
            "text/plain": [
              "[1, 2, 3, 4, 6, 7, 5]"
            ]
          },
          "metadata": {},
          "execution_count": 14
        }
      ]
    },
    {
      "cell_type": "markdown",
      "source": [
        "Analyzing the output, we realize that the ....\n",
        "\n",
        "....  Sometimes you are sure of the fix, sometimes you have an educated guess and try a fix.\n"
      ],
      "metadata": {
        "id": "1oV7GzpmKasQ"
      }
    },
    {
      "cell_type": "code",
      "source": [
        "def bubble_sort(alist):\n",
        "  '''Sorts a given list in ascending order\n",
        "  >>> bubble_sort([3,4,2,1])\n",
        "  [1,2,3,4]\n",
        "  '''\n",
        "  for passnum in reversed(range(len(alist))):\n",
        "    print (\"sorting in progress:\", alist )\n",
        "    for i in range(passnum):\n",
        "        if alist[i] > alist[i + 1]:\n",
        "            alist[i], alist[i + 1] = alist[i + 1], alist[i]\n",
        "  return alist"
      ],
      "metadata": {
        "id": "AQvRLZyVKY7r"
      },
      "execution_count": 17,
      "outputs": []
    },
    {
      "cell_type": "code",
      "source": [
        "bubble_sort([3,4,2,1])"
      ],
      "metadata": {
        "id": "MIwiXjZFMsSF",
        "outputId": "41d88b06-bc73-45d5-ffc0-b48432993934",
        "colab": {
          "base_uri": "https://localhost:8080/"
        }
      },
      "execution_count": 18,
      "outputs": [
        {
          "output_type": "stream",
          "name": "stdout",
          "text": [
            "sorting in progress: [3, 4, 2, 1]\n",
            "sorting in progress: [3, 2, 1, 4]\n",
            "sorting in progress: [2, 1, 3, 4]\n",
            "sorting in progress: [1, 2, 3, 4]\n"
          ]
        },
        {
          "output_type": "execute_result",
          "data": {
            "text/plain": [
              "[1, 2, 3, 4]"
            ]
          },
          "metadata": {},
          "execution_count": 18
        }
      ]
    },
    {
      "cell_type": "code",
      "source": [
        "bubble_sort([7,1,3,4,2,6,5])"
      ],
      "metadata": {
        "id": "6YnvMrNEdmZw",
        "outputId": "dec6b0c8-8fee-47c2-e0d7-43e9967a6283",
        "colab": {
          "base_uri": "https://localhost:8080/"
        }
      },
      "execution_count": 19,
      "outputs": [
        {
          "output_type": "stream",
          "name": "stdout",
          "text": [
            "sorting in progress: [7, 1, 3, 4, 2, 6, 5]\n",
            "sorting in progress: [1, 3, 4, 2, 6, 5, 7]\n",
            "sorting in progress: [1, 3, 2, 4, 5, 6, 7]\n",
            "sorting in progress: [1, 2, 3, 4, 5, 6, 7]\n",
            "sorting in progress: [1, 2, 3, 4, 5, 6, 7]\n",
            "sorting in progress: [1, 2, 3, 4, 5, 6, 7]\n",
            "sorting in progress: [1, 2, 3, 4, 5, 6, 7]\n"
          ]
        },
        {
          "output_type": "execute_result",
          "data": {
            "text/plain": [
              "[1, 2, 3, 4, 5, 6, 7]"
            ]
          },
          "metadata": {},
          "execution_count": 19
        }
      ]
    },
    {
      "cell_type": "markdown",
      "source": [
        "Once you are happy it is working.  Remove or comment out the print() statement."
      ],
      "metadata": {
        "id": "142Msl3UMz08"
      }
    },
    {
      "cell_type": "code",
      "source": [
        "def bubble_sort(alist):\n",
        "  '''Sorts a given list in ascending order\n",
        "  >>> bubble_sort([3,4,2,1])\n",
        "  [1,2,3,4]\n",
        "  '''\n",
        "  for passnum in reversed(range(len(alist))):\n",
        "    for i in range(passnum):\n",
        "        if alist[i] > alist[i + 1]:\n",
        "            alist[i], alist[i + 1] = alist[i + 1], alist[i]\n",
        "  return alist"
      ],
      "metadata": {
        "id": "nXGowQG7MyGp"
      },
      "execution_count": 21,
      "outputs": []
    },
    {
      "cell_type": "code",
      "source": [
        "bubble_sort([7,1,3,4,2,6,5])"
      ],
      "metadata": {
        "id": "eMNdpicmM9uF",
        "outputId": "e837ce95-dabc-4122-ab1b-3ffd6c32232b",
        "colab": {
          "base_uri": "https://localhost:8080/"
        }
      },
      "execution_count": 22,
      "outputs": [
        {
          "output_type": "execute_result",
          "data": {
            "text/plain": [
              "[1, 2, 3, 4, 5, 6, 7]"
            ]
          },
          "metadata": {},
          "execution_count": 22
        }
      ]
    },
    {
      "cell_type": "code",
      "source": [
        ""
      ],
      "metadata": {
        "id": "Vkt62QK6NBQ0"
      },
      "execution_count": null,
      "outputs": []
    }
  ]
}